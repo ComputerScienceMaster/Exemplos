{
 "cells": [
  {
   "cell_type": "code",
   "execution_count": 15,
   "metadata": {},
   "outputs": [],
   "source": [
    "# primeiro devemos criar a base de dados no mysql... para isso utilizamos\n",
    "\n",
    "# CREATE database learntoimplement_python_mysql\n",
    "\n",
    "# use learntoimplement_python_mysql\n",
    "\n",
    "# CREATE TABLE pessoa (id INT NOT NULL AUTO_INCREMENT, nome VARCHAR(100) NULL, PRIMARY KEY (id));\n",
    "\n",
    "## importa as bibliotecas necessárias para realizar as operações\n",
    "from mysql.connector import MySQLConnection, Error\n",
    "import mysql.connector\n",
    " "
   ]
  },
  {
   "cell_type": "code",
   "execution_count": 16,
   "metadata": {},
   "outputs": [],
   "source": [
    "def connect():\n",
    "    \"\"\" Connect to MySQL database \"\"\"\n",
    "    try:\n",
    "        conn = mysql.connector.connect(host='localhost',\n",
    "                                       database='learntoimplement_python_mysql',\n",
    "                                       user='root',\n",
    "                                       password='12345')\n",
    "        if conn.is_connected():\n",
    "            print('Connected to MySQL database')\n",
    "            \n",
    "        return conn\n",
    "    except Error as e:\n",
    "        print(e)\n",
    " "
   ]
  },
  {
   "cell_type": "code",
   "execution_count": 26,
   "metadata": {},
   "outputs": [],
   "source": [
    "def insert_pessoa(nome):\n",
    "    query = \"INSERT INTO pessoa(nome) VALUES(%s)\"\n",
    "    args = [nome]\n",
    " \n",
    "    try:\n",
    "        conn = connect()\n",
    " \n",
    "        cursor = conn.cursor()\n",
    "        cursor.execute(query, args)\n",
    " \n",
    "        if cursor.lastrowid:\n",
    "            print('last insert id', cursor.lastrowid)\n",
    "        else:\n",
    "            print('last insert id not found')\n",
    " \n",
    "        conn.commit()\n",
    "    except Error as error:\n",
    "        print(error)\n",
    " \n",
    "    finally:\n",
    "        cursor.close()\n",
    "        conn.close()"
   ]
  },
  {
   "cell_type": "code",
   "execution_count": 50,
   "metadata": {},
   "outputs": [],
   "source": [
    "def edit_pessoa(id, nome):\n",
    "    query = \"UPDATE pessoa SET nome = %s WHERE id = %s\"\n",
    "    args = (nome, id)\n",
    "    try:\n",
    "        conn = connect()\n",
    "        cursor = conn.cursor()\n",
    "        cursor.execute(query, args)\n",
    "        \n",
    "        conn.commit()\n",
    "    except Error as error:\n",
    "        print(error)\n",
    " \n",
    "    finally:\n",
    "        cursor.close()\n",
    "        \n",
    "    finally:\n",
    "        cursor.close()\n",
    "        conn.close()"
   ]
  },
  {
   "cell_type": "code",
   "execution_count": 54,
   "metadata": {},
   "outputs": [],
   "source": [
    "def buscar_pessoa(id):\n",
    "    try:\n",
    "        conn = connect()\n",
    "        cursor = conn.cursor()\n",
    "        cursor.execute(\"SELECT * FROM pessoa\")\n",
    "\n",
    "        row = cursor.fetchone()\n",
    "\n",
    "        while row is not None:\n",
    "            print(row)\n",
    "            row = cursor.fetchone()\n",
    "        return row\n",
    "    except Error as e:\n",
    "        print(e)\n",
    "     \n",
    "    finally:\n",
    "        cursor.close()\n",
    "        conn.close()"
   ]
  },
  {
   "cell_type": "code",
   "execution_count": 64,
   "metadata": {},
   "outputs": [],
   "source": [
    "def delete_pessoa(id):\n",
    "    query = \"DELETE from pessoa where id=%s\"\n",
    "    args = [id]\n",
    "    print(query)\n",
    "    try:\n",
    "        conn = connect()\n",
    "        cursor = conn.cursor()\n",
    "        cursor.execute(query, args)\n",
    "        \n",
    "        conn.commit()\n",
    "    except Error as error:\n",
    "        print(error)\n",
    " \n",
    "    finally:\n",
    "        cursor.close()\n",
    "        conn.close()"
   ]
  },
  {
   "cell_type": "code",
   "execution_count": 27,
   "metadata": {},
   "outputs": [
    {
     "name": "stdout",
     "output_type": "stream",
     "text": [
      "Connected to MySQL database\n",
      "last insert id 2\n"
     ]
    }
   ],
   "source": [
    "# realiza o insert\n",
    "insert_pessoa(\"Maria\")"
   ]
  },
  {
   "cell_type": "code",
   "execution_count": 52,
   "metadata": {},
   "outputs": [
    {
     "name": "stdout",
     "output_type": "stream",
     "text": [
      "Connected to MySQL database\n"
     ]
    }
   ],
   "source": [
    "# realiza o update\n",
    "edit_pessoa(1,\"Leo\")"
   ]
  },
  {
   "cell_type": "code",
   "execution_count": 55,
   "metadata": {},
   "outputs": [
    {
     "name": "stdout",
     "output_type": "stream",
     "text": [
      "Connected to MySQL database\n",
      "(1, 'Leo')\n",
      "(2, 'Maria')\n"
     ]
    }
   ],
   "source": [
    "#realiza a busca\n",
    "pessoa = buscar_pessoa(1)\n",
    "pessoa"
   ]
  },
  {
   "cell_type": "code",
   "execution_count": 65,
   "metadata": {},
   "outputs": [
    {
     "name": "stdout",
     "output_type": "stream",
     "text": [
      "DELETE from pessoa where id=%s\n",
      "Connected to MySQL database\n",
      "1064 (42000): You have an error in your SQL syntax; check the manual that corresponds to your MySQL server version for the right syntax to use near '%s' at line 1\n"
     ]
    }
   ],
   "source": [
    "#realiza a deleção\n",
    "delete_pessoa(2)"
   ]
  },
  {
   "cell_type": "code",
   "execution_count": null,
   "metadata": {},
   "outputs": [],
   "source": []
  }
 ],
 "metadata": {
  "kernelspec": {
   "display_name": "Python 3",
   "language": "python",
   "name": "python3"
  },
  "language_info": {
   "codemirror_mode": {
    "name": "ipython",
    "version": 3
   },
   "file_extension": ".py",
   "mimetype": "text/x-python",
   "name": "python",
   "nbconvert_exporter": "python",
   "pygments_lexer": "ipython3",
   "version": "3.6.5"
  },
  "varInspector": {
   "cols": {
    "lenName": 16,
    "lenType": 16,
    "lenVar": 40
   },
   "kernels_config": {
    "python": {
     "delete_cmd_postfix": "",
     "delete_cmd_prefix": "del ",
     "library": "var_list.py",
     "varRefreshCmd": "print(var_dic_list())"
    },
    "r": {
     "delete_cmd_postfix": ") ",
     "delete_cmd_prefix": "rm(",
     "library": "var_list.r",
     "varRefreshCmd": "cat(var_dic_list()) "
    }
   },
   "types_to_exclude": [
    "module",
    "function",
    "builtin_function_or_method",
    "instance",
    "_Feature"
   ],
   "window_display": false
  }
 },
 "nbformat": 4,
 "nbformat_minor": 2
}
