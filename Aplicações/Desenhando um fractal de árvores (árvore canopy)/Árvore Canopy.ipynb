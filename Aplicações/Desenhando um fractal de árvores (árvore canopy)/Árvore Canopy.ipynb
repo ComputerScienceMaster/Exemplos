{
 "cells": [
  {
   "attachments": {},
   "cell_type": "markdown",
   "metadata": {},
   "source": [
    "# Como desenhar a árvore canopy usando python\n",
    "\n",
    "\n",
    "Esse tutorial faz parte de uma série sobre como desenhar fractais usando programação. Se você adora programar e problemas difíceis, talvez, esse seja um excelente exercício para você. \n",
    "\n",
    "Bom, primeiro vamos entender melhor o que é nosso fractal. Essa árvore é considerada um dos tipos mais fáceis de criar. Nesse caso \"fácil é relativo\", visto que esse fractal é uma árvore binária, sendo assim, para aqueles que não são familiarizados com o conceito de recursão e de árvores (geralmente discutido em estruturas de dados) esse fractal não é tão simples assim.\n",
    "\n",
    "\n",
    "O fractal canopy é esse:\n",
    "<img src=\"images/canopy.png\" width=\"400\"/>\n",
    "<center>Fonte: Wikipedia | usuário: <a href=\"https://en.wikipedia.org/wiki/User:Rocchini\"> Rocchini </a></center>"
   ]
  },
  {
   "cell_type": "markdown",
   "metadata": {},
   "source": [
    "Antes de mais nada, preciso dizer que vamos usar a biblioteca turtle, portanto, segue um breve overview como usar essa biblioteca:"
   ]
  },
  {
   "cell_type": "code",
   "execution_count": null,
   "metadata": {},
   "outputs": [],
   "source": [
    "# para importar nossa \"tartaruga\" fazemos:\n",
    "import turtle \n",
    "\n",
    "# mover a tartaruga para frente:\n",
    "turtle.forward(100)\n",
    "\n",
    "# finalizar o processamento\n",
    "turtle.done()"
   ]
  },
  {
   "cell_type": "markdown",
   "metadata": {},
   "source": [
    "Agora se nós quisermos fazer um quadrado assim como fizemos anteriormente:"
   ]
  },
  {
   "cell_type": "code",
   "execution_count": null,
   "metadata": {},
   "outputs": [],
   "source": [
    "# para importar nossa \"tartaruga\" fazemos:\n",
    "import turtle \n",
    "\n",
    "# mover a tartaruga para frente:\n",
    "turtle.forward(100)\n",
    "turtle.right(90)\n",
    "turtle.forward(100)\n",
    "turtle.right(90)\n",
    "turtle.forward(100)\n",
    "turtle.right(90)\n",
    "turtle.forward(100)\n",
    "turtle.right(90)\n",
    "\n",
    "# finalizar o processamento\n",
    "turtle.done()"
   ]
  },
  {
   "cell_type": "markdown",
   "metadata": {},
   "source": [
    "Claro que podemos usar os laços de repetição também para automatizar as tarefas:"
   ]
  },
  {
   "cell_type": "code",
   "execution_count": null,
   "metadata": {},
   "outputs": [],
   "source": [
    "# para importar nossa \"tartaruga\" fazemos:\n",
    "import turtle \n",
    "\n",
    "# mover a tartaruga para frente e vira 40 graus formando um octogono:\n",
    "for i in range(0,9):\n",
    "    turtle.forward(100)\n",
    "    turtle.right(40)\n",
    "\n",
    "# finalizar o processamento\n",
    "turtle.done()"
   ]
  },
  {
   "attachments": {
    "Binary_tree.svg": {
     "image/svg+xml": [
      "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"
     ]
    }
   },
   "cell_type": "markdown",
   "metadata": {},
   "source": [
    "Maravilha, agora nós precisamos definir uma função para realizar ações parecido com uma árvore binária. Para quem não lembra, uma árvore binária é uma estrutura de dados mais ou menos assim:\n",
    "\n",
    "![Binary_tree.svg](attachment:Binary_tree.svg)\n",
    "<center>Fonte: Wikipedia | Domínio público</center>"
   ]
  },
  {
   "cell_type": "markdown",
   "metadata": {},
   "source": [
    "Para percorrer uma árvore você deverá usar recursão, portanto, isso significa que a função irá visitar as subárvores da direita e da esquerda e quando você não tiver mais nenhum filho o processo para. Esse algorítmo para percorrer árvores possui várias versões (in-ordem; pos-ordem; pré-ordem), no entanto, aqui você não precisa saber nada além do que eu acabei de explicar.\n",
    "\n",
    "Então, a primeira coisa que eu irei fazer é criar nossa tartaruga e definir uma função que terá o formato recursivo:"
   ]
  },
  {
   "cell_type": "code",
   "execution_count": null,
   "metadata": {},
   "outputs": [],
   "source": [
    "\n",
    "# para importar nossa \"tartaruga\" fazemos:\n",
    "import turtle \n",
    "\n",
    "# define nossa tartaruga\n",
    "t = turtle.Turtle()\n",
    "# \"pega\" a nossa tela\n",
    "wn = turtle.Screen()\n",
    "\n",
    "# define a profundidade desejada na recursão\n",
    "profundidade = 3\n",
    "\n",
    "# coloca o angulo inicial para cima para cima\n",
    "t.right(270)\n",
    "\n",
    "#coloca a tartaruga na posição inicial\n",
    "t.penup()\n",
    "t.goto((0,-250))\n",
    "t.pendown()\n",
    "\n",
    "# modifica a velocidade (para ir mais rápido)\n",
    "t.speed(150)\n",
    "\n",
    "# define a função recursiva:\n",
    "# i → representa o tamanho do segmento\n",
    "# p → representa a profundidade desejada\n",
    "# mP → representa a profundidade atual \n",
    "def canopy(i, p, mP):\n",
    "    if p == mP:\n",
    "        return\n",
    "    else:\n",
    "        t.forward(i)\n",
    "        \n",
    "canopy(100, profundidade, 0)\n",
    "\n",
    "# finalizar o processamento\n",
    "wn.exitonclick()\n",
    "turtle.done()"
   ]
  },
  {
   "attachments": {
    "image.png": {
     "image/png": "[encoded data removed]"
    }
   },
   "cell_type": "markdown",
   "metadata": {},
   "source": [
    "O resultado é uma simples reta:\n",
    "![image.png](attachment:image.png)\n",
    "\n",
    "Mas se eu tentar virar para esquerda 30 graus e dar um outro \"forward\", fica assim:"
   ]
  },
  {
   "cell_type": "code",
   "execution_count": null,
   "metadata": {},
   "outputs": [],
   "source": [
    "\n",
    "# para importar nossa \"tartaruga\" fazemos:\n",
    "import turtle \n",
    "\n",
    "# define nossa tartaruga\n",
    "t = turtle.Turtle()\n",
    "# \"pega\" a nossa tela\n",
    "wn = turtle.Screen()\n",
    "\n",
    "# define a profundidade desejada na recursão\n",
    "profundidade = 3\n",
    "\n",
    "# coloca o angulo inicial para cima para cima\n",
    "t.right(270)\n",
    "\n",
    "#coloca a tartaruga na posição inicial\n",
    "t.penup()\n",
    "t.goto((0,-250))\n",
    "t.pendown()\n",
    "\n",
    "# modifica a velocidade (para ir mais rápido)\n",
    "t.speed(150)\n",
    "\n",
    "# define a função recursiva:\n",
    "# i → representa o tamanho do segmento\n",
    "# p → representa a profundidade desejada\n",
    "# mP → representa a profundidade atual \n",
    "def canopy(i, p, mP):\n",
    "    if p == mP:\n",
    "        return\n",
    "    else:\n",
    "        t.forward(i)\n",
    "        t.left(30)\n",
    "        t.forward(i)\n",
    "        \n",
    "canopy(100, profundidade, 0)\n",
    "\n",
    "# finalizar o processamento\n",
    "wn.exitonclick()\n",
    "turtle.done()"
   ]
  },
  {
   "attachments": {
    "image.png": {
     "image/png": "[encoded data removed]"
    }
   },
   "cell_type": "markdown",
   "metadata": {},
   "source": [
    "Veja que aqui temos algo próximo do que precisamos:\n",
    "![image.png](attachment:image.png)\n",
    "\n",
    "No entanto, na verdade precisamos que nosso código chame essa função recursivamente até o fim da nossa árvore:"
   ]
  },
  {
   "cell_type": "code",
   "execution_count": null,
   "metadata": {},
   "outputs": [],
   "source": [
    "\n",
    "# para importar nossa \"tartaruga\" fazemos:\n",
    "import turtle \n",
    "\n",
    "# define nossa tartaruga\n",
    "t = turtle.Turtle()\n",
    "# \"pega\" a nossa tela\n",
    "wn = turtle.Screen()\n",
    "\n",
    "# define a profundidade desejada na recursão\n",
    "profundidade = 5\n",
    "\n",
    "# coloca o angulo inicial para cima para cima\n",
    "t.right(270)\n",
    "\n",
    "#coloca a tartaruga na posição inicial\n",
    "t.penup()\n",
    "t.goto((0,-250))\n",
    "t.pendown()\n",
    "\n",
    "# modifica a velocidade (para ir mais rápido)\n",
    "t.speed(150)\n",
    "\n",
    "tamanhoDoSegmento = 200\n",
    "\n",
    "# define a função recursiva:\n",
    "def canopy(i, p, mP):\n",
    "    if p == mP:\n",
    "        return\n",
    "    else:\n",
    "        t.forward(i)\n",
    "        t.left(30)\n",
    "        canopy(0.75*i,  p, mP + 1)\n",
    "        \n",
    "canopy(100, profundidade, 0)\n",
    "\n",
    "# finalizar o processamento\n",
    "wn.exitonclick()\n",
    "turtle.done()"
   ]
  },
  {
   "attachments": {
    "image.png": {
     "image/png": "[encoded data removed]"
    }
   },
   "cell_type": "markdown",
   "metadata": {},
   "source": [
    "Aqui vemos quase como um galho \"caido\", isso significa que fomos até o fim da nossa recursão desenhando nossos galhos. Perceba que usei \n",
    "\n",
    "![image.png](attachment:image.png)\n",
    "\n",
    "O mais natural agora seria virar para o lado oposto em 60 graus (30º virados anteriormente e mais 30º para a nova curva da árvore), certo?"
   ]
  },
  {
   "cell_type": "code",
   "execution_count": null,
   "metadata": {},
   "outputs": [],
   "source": [
    "\n",
    "# para importar nossa \"tartaruga\" fazemos:\n",
    "import turtle \n",
    "\n",
    "# define nossa tartaruga\n",
    "t = turtle.Turtle()\n",
    "# \"pega\" a nossa tela\n",
    "wn = turtle.Screen()\n",
    "\n",
    "# define a profundidade desejada na recursão\n",
    "profundidade = 5\n",
    "\n",
    "# coloca o angulo inicial para cima para cima\n",
    "t.right(270)\n",
    "\n",
    "#coloca a tartaruga na posição inicial\n",
    "t.penup()\n",
    "t.goto((0,-250))\n",
    "t.pendown()\n",
    "\n",
    "# modifica a velocidade (para ir mais rápido)\n",
    "t.speed(150)\n",
    "\n",
    "tamanhoDoSegmento = 200\n",
    "\n",
    "# define a função recursiva:\n",
    "def canopy(i, p, mP):\n",
    "    if p == mP:\n",
    "        return\n",
    "    else:\n",
    "        t.forward(i)\n",
    "        t.left(30)\n",
    "        canopy(0.75*i,  p, mP + 1)\n",
    "        t.right(60)\n",
    "        canopy(0.75*i,  p, mP + 1)\n",
    "        \n",
    "canopy(100, profundidade, 0)\n",
    "\n",
    "# finalizar o processamento\n",
    "wn.exitonclick()\n",
    "turtle.done()"
   ]
  },
  {
   "attachments": {
    "image.png": {
     "image/png": "[encoded data removed]"
    }
   },
   "cell_type": "markdown",
   "metadata": {},
   "source": [
    "Até faz sentido mas o resultado é esse:\n",
    "![image.png](attachment:image.png)\n",
    "\n",
    "Isso acontece porque devemos ao fim da nossa recursão devemos voltar para o estado anterior. Isso significa permite que os galhos sejam desenhados:"
   ]
  },
  {
   "cell_type": "code",
   "execution_count": null,
   "metadata": {},
   "outputs": [],
   "source": [
    "\n",
    "# para importar nossa \"tartaruga\" fazemos:\n",
    "import turtle \n",
    "\n",
    "# define nossa tartaruga\n",
    "t = turtle.Turtle()\n",
    "# \"pega\" a nossa tela\n",
    "wn = turtle.Screen()\n",
    "\n",
    "# define a profundidade desejada na recursão\n",
    "profundidade = 5\n",
    "\n",
    "# coloca o angulo inicial para cima para cima\n",
    "t.right(270)\n",
    "\n",
    "#coloca a tartaruga na posição inicial\n",
    "t.penup()\n",
    "t.goto((0,-250))\n",
    "t.pendown()\n",
    "\n",
    "# modifica a velocidade (para ir mais rápido)\n",
    "t.speed(150)\n",
    "\n",
    "tamanhoDoSegmento = 200\n",
    "\n",
    "# define a função recursiva:\n",
    "def canopy(i, p, mP):\n",
    "    if p == mP:\n",
    "        return\n",
    "    else:\n",
    "        t.forward(i)\n",
    "        t.left(30)\n",
    "        canopy(0.75*i,  p, mP + 1)\n",
    "        t.right(60)\n",
    "        canopy(0.75*i,  p, mP + 1)\n",
    "        t.left(30)\n",
    "        t.backward(i)\n",
    "        \n",
    "canopy(100, profundidade, 0)\n",
    "\n",
    "# finalizar o processamento\n",
    "wn.exitonclick()\n",
    "turtle.done()"
   ]
  },
  {
   "attachments": {
    "image.png": {
     "image/png": "[encoded data removed]"
    }
   },
   "cell_type": "markdown",
   "metadata": {},
   "source": [
    "O nosso resultado final é esse:\n",
    "\n",
    "![image.png](attachment:image.png)\n",
    "\n",
    "E ai, gostaram do tutorial? \n",
    "\n",
    "Se gostou deixa sua estrelinha no nosso github :)"
   ]
  },
  {
   "cell_type": "code",
   "execution_count": null,
   "metadata": {},
   "outputs": [],
   "source": []
  }
 ],
 "metadata": {
  "kernelspec": {
   "display_name": "Python 3",
   "language": "python",
   "name": "python3"
  },
  "language_info": {
   "codemirror_mode": {
    "name": "ipython",
    "version": 3
   },
   "file_extension": ".py",
   "mimetype": "text/x-python",
   "name": "python",
   "nbconvert_exporter": "python",
   "pygments_lexer": "ipython3",
   "version": "3.8.5"
  }
 },
 "nbformat": 4,
 "nbformat_minor": 4
}
