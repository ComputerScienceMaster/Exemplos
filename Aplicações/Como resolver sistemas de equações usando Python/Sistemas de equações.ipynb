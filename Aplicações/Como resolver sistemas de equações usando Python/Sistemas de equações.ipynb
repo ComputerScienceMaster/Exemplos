{
 "cells": [
  {
   "cell_type": "markdown",
   "metadata": {},
   "source": [
    "# Resolvendo sistemas de equações usando Python\n",
    "\n",
    "Dado o sistema de equações abaixo: \n",
    "\n",
    "$$ 3x + 2y - z = 1 $$\n",
    "$$ 2x - 2y + 4z = -2 $$\n",
    "$$ -x + 1/2y - z = 0 $$\n",
    "\n",
    "\n",
    "Se você é bom de matemática, você vai se lembrar que existem várias formas de resolver esse sistema. Uma dessas formas é a regra de Cramer (que é odiada por muitos por ser muito trabalhosa). No entanto, essa regra pode nos ajudar a compreender melhor como o pensamento computacional pode ajudar no seu aprendizado. \n",
    "\n",
    "Nosso desafio aqui é criar um programa usando a linguagem Python para resolver esse sistema usando a regra de Cramer. Lembre-se a regra de Cramer é dada por:\n",
    "\n",
    "```plaintext\n",
    "x = Dx/D\n",
    "y = Dy/D\n",
    "z = Dz/D\n",
    "```\n",
    "\n",
    "Lembre-se que \"D\" significa determinante e X Y e Z são as dimensões. Portanto, em primeiro lugar vamos começar criando uma matriz que representa as variáveis X Y e Z das nossas equações:"
   ]
  },
  {
   "cell_type": "code",
   "execution_count": 99,
   "metadata": {},
   "outputs": [],
   "source": [
    "sistema = [\n",
    "        [3,2,-1],\n",
    "        [2,-2,4],\n",
    "        [-1,0.5,-1]\n",
    "]\n",
    "\n",
    "igualdades = [1,-2,0]"
   ]
  },
  {
   "cell_type": "markdown",
   "metadata": {},
   "source": [
    "Agora vamos criar uma pequena função que calcula o determinante de uma matriz. Essa função recebe como parâmetro a matriz e retorna um valor inteiro que é o resultado do determinante"
   ]
  },
  {
   "cell_type": "code",
   "execution_count": 123,
   "metadata": {},
   "outputs": [],
   "source": [
    "## importa o numpy\n",
    "import numpy as np\n",
    "from copy import copy, deepcopy\n",
    "\n",
    "def resolverDeterminante(mat):\n",
    "    matT = deepcopy(mat)\n",
    "    \n",
    "    diagonalPrincipal = []\n",
    "    diagonalSecundaria = []\n",
    "    \n",
    "    for c in range(0,3):\n",
    "        for d in range(0,2):\n",
    "            matT[c].append(mat[c][d])\n",
    "    \n",
    "    \n",
    "    for x in range (0,3):\n",
    "        c = 0 + x\n",
    "        multiplica = []\n",
    "        for l in range(0,3):\n",
    "            multiplica.append(matT[l][c])\n",
    "            c += 1\n",
    "        diagonalPrincipal.append(np.prod(multiplica))\n",
    "    \n",
    "    #print(diagonalPrincipal)\n",
    "    \n",
    "    \n",
    "    for x in range (0,3):\n",
    "        c = 0 + x\n",
    "        multiplica = []\n",
    "        for l in range(2,-1,-1):\n",
    "            multiplica.append(matT[l][c])\n",
    "            c += 1\n",
    "        diagonalSecundaria.append(np.prod(multiplica))\n",
    "    \n",
    "    #print(diagonalSecundaria)\n",
    "    \n",
    "    \n",
    "    determinante = sum(diagonalPrincipal) - sum(diagonalSecundaria)\n",
    "    return determinante\n",
    "\n"
   ]
  },
  {
   "cell_type": "markdown",
   "metadata": {},
   "source": [
    "Quando chamamos a função para resolver os determinantes temos o resultado da determinante:"
   ]
  },
  {
   "cell_type": "code",
   "execution_count": 127,
   "metadata": {},
   "outputs": [
    {
     "data": {
      "text/plain": [
       "-3.0"
      ]
     },
     "execution_count": 127,
     "metadata": {},
     "output_type": "execute_result"
    }
   ],
   "source": [
    "resolverDeterminante(sistema)"
   ]
  },
  {
   "cell_type": "markdown",
   "metadata": {},
   "source": [
    "Agora Vamos resolver para Dx, Dy e Dz. Portanto, para cada dimensão precisamos substituir a coluna pelo vetor de igualdades:"
   ]
  },
  {
   "cell_type": "code",
   "execution_count": 125,
   "metadata": {},
   "outputs": [],
   "source": [
    "def resolverSistema(sistema, igualdades):\n",
    "    \n",
    "    determinante = resolverDeterminante(sistema)\n",
    "    \n",
    "    # print(determinante)\n",
    "    #para DX\n",
    "    ## primeiro fazemos uma cópia do sistema original (para podermos fazer os outros cálculos tranquilamente)\n",
    "    sis = deepcopy(sistema)\n",
    "    # aqui vamos substituir a dimensão 0, ou seja, a dimensão X\n",
    "    dimensao = 0\n",
    "    \n",
    "    # fazemos a substituição...\n",
    "    for i in range(0,3):\n",
    "        sis[i][dimensao] = igualdades[i]\n",
    "    # resolvemos o determinante de \"sis\" e dividimos pelo determinante da matriz original\n",
    "    x = resolverDeterminante(sis)/determinante\n",
    "    \n",
    "    # para Dy \n",
    "    # mais uma cópia\n",
    "    sis = deepcopy(sistema)\n",
    "    # agora para dimensão y\n",
    "    dimensao = 1\n",
    "    \n",
    "    # substituição\n",
    "    for i in range(0,3):\n",
    "        sis[i][dimensao] = igualdades[i]\n",
    "    # calculo de Y\n",
    "    y = resolverDeterminante(sis)/determinante\n",
    "    \n",
    "    # para Dz\n",
    "    ## daqui pra baixo é tudo igual e só mudamos a dimensão\n",
    "    sis = deepcopy(sistema)\n",
    "    # agora para Z\n",
    "    dimensao = 2\n",
    "    \n",
    "    for i in range(0,3):\n",
    "        sis[i][dimensao] = igualdades[i]\n",
    "        \n",
    "    z = resolverDeterminante(sis)/determinante\n",
    "    \n",
    "    print(\"conjunto solução:\", \"x = \", x , \"y = \", y, \"z = \", z)\n",
    "    \n",
    "    \n"
   ]
  },
  {
   "cell_type": "code",
   "execution_count": 126,
   "metadata": {},
   "outputs": [
    {
     "name": "stdout",
     "output_type": "stream",
     "text": [
      "conjunto solução: x =  1.0 y =  -2.0 z =  -2.0\n"
     ]
    }
   ],
   "source": [
    "resolverSistema(sistema,igualdades)"
   ]
  },
  {
   "cell_type": "code",
   "execution_count": null,
   "metadata": {},
   "outputs": [],
   "source": []
  }
 ],
 "metadata": {
  "kernelspec": {
   "display_name": "Python 3",
   "language": "python",
   "name": "python3"
  },
  "language_info": {
   "codemirror_mode": {
    "name": "ipython",
    "version": 3
   },
   "file_extension": ".py",
   "mimetype": "text/x-python",
   "name": "python",
   "nbconvert_exporter": "python",
   "pygments_lexer": "ipython3",
   "version": "3.8.5"
  }
 },
 "nbformat": 4,
 "nbformat_minor": 4
}
